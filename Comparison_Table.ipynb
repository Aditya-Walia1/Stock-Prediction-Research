{
  "nbformat": 4,
  "nbformat_minor": 0,
  "metadata": {
    "colab": {
      "provenance": [],
      "authorship_tag": "ABX9TyMC9eX5x2MqloXoaj/MmW3u",
      "include_colab_link": true
    },
    "kernelspec": {
      "name": "python3",
      "display_name": "Python 3"
    },
    "language_info": {
      "name": "python"
    }
  },
  "cells": [
    {
      "cell_type": "markdown",
      "metadata": {
        "id": "view-in-github",
        "colab_type": "text"
      },
      "source": [
        "<a href=\"https://colab.research.google.com/github/Aditya-Walia1/Stock-Prediction-Research/blob/main/Comparison_Table.ipynb\" target=\"_parent\"><img src=\"https://colab.research.google.com/assets/colab-badge.svg\" alt=\"Open In Colab\"/></a>"
      ]
    },
    {
      "cell_type": "markdown",
      "source": [
        "##Quaterly AAPL"
      ],
      "metadata": {
        "id": "HvowStO6jAMM"
      }
    },
    {
      "cell_type": "code",
      "execution_count": 2,
      "metadata": {
        "colab": {
          "base_uri": "https://localhost:8080/"
        },
        "id": "BAk5Z0meiyC4",
        "outputId": "cdeb97a0-c4fe-4cbf-e2fa-28512968d41f"
      },
      "outputs": [
        {
          "output_type": "stream",
          "name": "stdout",
          "text": [
            "                            Algorithm       MAE      RMSE\n",
            "0                               ARIMA  1.125532  3.364324\n",
            "1  Hot_Winters_Exponential_Smoothning  1.379257  3.339612\n",
            "2                                LSTM  1.641772  3.822389\n",
            "3                       Random_Forest  0.370925  1.075492\n",
            "4                                MARS         -         -\n"
          ]
        }
      ],
      "source": [
        "import pandas as pd\n",
        "\n",
        "\n",
        "results = {\n",
        "    'Algorithm': ['ARIMA', 'Hot_Winters_Exponential_Smoothning', 'LSTM', 'Random_Forest', 'MARS'],\n",
        "    'MAE': [1.1255315377911217, 1.3792567725850433, 1.6417717070440008, 0.3709252858019335, '-'],\n",
        "    'RMSE': [3.364324005914854, 3.339612077704591, 3.8223891239838843, 1.0754917761060612,'-'],\n",
        "\n",
        "\n",
        "\n",
        "}\n",
        "\n",
        "# Creating a DataFrame\n",
        "df = pd.DataFrame(results)\n",
        "\n",
        "# Display the table\n",
        "print(df)"
      ]
    },
    {
      "cell_type": "markdown",
      "source": [
        "##Yearly AAPL"
      ],
      "metadata": {
        "id": "jGOgso7gjFLW"
      }
    },
    {
      "cell_type": "code",
      "source": [
        "import pandas as pd\n",
        "\n",
        "\n",
        "results = {\n",
        "    'Algorithm': ['ARIMA', 'Hot_Winters_Exponential_Smoothning', 'LSTM', 'Random_Forest', 'MARS'],\n",
        "    'MAE': [2.6490950663336634, 2.965273109002797, 6.1721342453973, 1.0436128926026484, '-'],\n",
        "    'RMSE': [6.898530691039216,  7.327276100055498, 8.460571557206388, 2.80583555333745,'-'],\n",
        "\n",
        "\n",
        "\n",
        "}\n",
        "\n",
        "# Creating a DataFrame\n",
        "df = pd.DataFrame(results)\n",
        "\n",
        "# Display the table\n",
        "print(df)"
      ],
      "metadata": {
        "colab": {
          "base_uri": "https://localhost:8080/"
        },
        "id": "xnkxtAv_i_C-",
        "outputId": "92e1fe3a-9b33-4f68-d8e6-dfec30b3e408"
      },
      "execution_count": 1,
      "outputs": [
        {
          "output_type": "stream",
          "name": "stdout",
          "text": [
            "                            Algorithm       MAE      RMSE\n",
            "0                               ARIMA  2.649095  6.898531\n",
            "1  Hot_Winters_Exponential_Smoothning  2.965273  7.327276\n",
            "2                                LSTM  6.172134  8.460572\n",
            "3                       Random_Forest  1.043613  2.805836\n",
            "4                                MARS         -         -\n"
          ]
        }
      ]
    },
    {
      "cell_type": "markdown",
      "source": [
        "##Quaterly AMZN"
      ],
      "metadata": {
        "id": "QkElS5G5pvyC"
      }
    },
    {
      "cell_type": "code",
      "source": [
        "results = {\n",
        "    'Algorithm': ['ARIMA', 'Hot_Winters_Exponential_Smoothning', 'LSTM', 'Random_Forest', 'MARS'],\n",
        "    'MAE': [3.200409051366878, 3.7862346808048017, 3.234312416843628, 0.8452499502975281, '-'],\n",
        "    'RMSE': [6.485896996294824,  6.654702082406257, 6.318401249272036, 1.821558778200319,'-'],\n",
        "\n",
        "\n",
        "\n",
        "}\n",
        "df = pd.DataFrame(results)\n",
        "\n",
        "# Display the table\n",
        "print(df)"
      ],
      "metadata": {
        "colab": {
          "base_uri": "https://localhost:8080/"
        },
        "id": "31L0n_p_pvCg",
        "outputId": "0de4013d-63c7-4924-a2f8-e7bf6f172d1f"
      },
      "execution_count": 4,
      "outputs": [
        {
          "output_type": "stream",
          "name": "stdout",
          "text": [
            "                            Algorithm       MAE      RMSE\n",
            "0                               ARIMA  3.200409  6.485897\n",
            "1  Hot_Winters_Exponential_Smoothning  3.786235  6.654702\n",
            "2                                LSTM  3.234312  6.318401\n",
            "3                       Random_Forest   0.84525  1.821559\n",
            "4                                MARS         -         -\n"
          ]
        }
      ]
    },
    {
      "cell_type": "markdown",
      "source": [
        "##Yearly AMZN"
      ],
      "metadata": {
        "id": "yq9QADHnp1EI"
      }
    },
    {
      "cell_type": "code",
      "source": [
        "results = {\n",
        "    'Algorithm': ['ARIMA', 'Hot_Winters_Exponential_Smoothning', 'LSTM', 'Random_Forest', 'MARS'],\n",
        "    'MAE': [6.9996299290600925, 9.236242105923079, 7.8224281864628145, 2.4898724194850153, '-'],\n",
        "    'RMSE': [13.787503501008551,  15.944587012106954, 14.966922889211027, 4.869353664609078,'-'],\n",
        "\n",
        "\n",
        "\n",
        "}\n",
        "df = pd.DataFrame(results)\n",
        "\n",
        "# Display the table\n",
        "print(df)"
      ],
      "metadata": {
        "colab": {
          "base_uri": "https://localhost:8080/"
        },
        "id": "laexEg4Lp8Yn",
        "outputId": "2bd77e7d-c0a1-4c06-9112-486771719305"
      },
      "execution_count": 5,
      "outputs": [
        {
          "output_type": "stream",
          "name": "stdout",
          "text": [
            "                            Algorithm       MAE       RMSE\n",
            "0                               ARIMA   6.99963  13.787504\n",
            "1  Hot_Winters_Exponential_Smoothning  9.236242  15.944587\n",
            "2                                LSTM  7.822428  14.966923\n",
            "3                       Random_Forest  2.489872   4.869354\n",
            "4                                MARS         -          -\n"
          ]
        }
      ]
    }
  ]
}