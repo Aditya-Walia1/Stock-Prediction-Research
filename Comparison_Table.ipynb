{
  "nbformat": 4,
  "nbformat_minor": 0,
  "metadata": {
    "colab": {
      "provenance": [],
      "authorship_tag": "ABX9TyMOgoOVomI1u/7/irbSXY3x",
      "include_colab_link": true
    },
    "kernelspec": {
      "name": "python3",
      "display_name": "Python 3"
    },
    "language_info": {
      "name": "python"
    }
  },
  "cells": [
    {
      "cell_type": "markdown",
      "metadata": {
        "id": "view-in-github",
        "colab_type": "text"
      },
      "source": [
        "<a href=\"https://colab.research.google.com/github/Aditya-Walia1/Stock-Prediction-Research/blob/main/Comparison_Table.ipynb\" target=\"_parent\"><img src=\"https://colab.research.google.com/assets/colab-badge.svg\" alt=\"Open In Colab\"/></a>"
      ]
    },
    {
      "cell_type": "markdown",
      "source": [
        "##Quaterly"
      ],
      "metadata": {
        "id": "HvowStO6jAMM"
      }
    },
    {
      "cell_type": "code",
      "execution_count": 2,
      "metadata": {
        "colab": {
          "base_uri": "https://localhost:8080/"
        },
        "id": "BAk5Z0meiyC4",
        "outputId": "cdeb97a0-c4fe-4cbf-e2fa-28512968d41f"
      },
      "outputs": [
        {
          "output_type": "stream",
          "name": "stdout",
          "text": [
            "                            Algorithm       MAE      RMSE\n",
            "0                               ARIMA  1.125532  3.364324\n",
            "1  Hot_Winters_Exponential_Smoothning  1.379257  3.339612\n",
            "2                                LSTM  1.641772  3.822389\n",
            "3                       Random_Forest  0.370925  1.075492\n",
            "4                                MARS         -         -\n"
          ]
        }
      ],
      "source": [
        "import pandas as pd\n",
        "\n",
        "\n",
        "results = {\n",
        "    'Algorithm': ['ARIMA', 'Hot_Winters_Exponential_Smoothning', 'LSTM', 'Random_Forest', 'MARS'],\n",
        "    'MAE': [1.1255315377911217, 1.3792567725850433, 1.6417717070440008, 0.3709252858019335, '-'],\n",
        "    'RMSE': [3.364324005914854, 3.339612077704591, 3.8223891239838843, 1.0754917761060612,'-'],\n",
        "\n",
        "\n",
        "\n",
        "}\n",
        "\n",
        "# Creating a DataFrame\n",
        "df = pd.DataFrame(results)\n",
        "\n",
        "# Display the table\n",
        "print(df)"
      ]
    },
    {
      "cell_type": "markdown",
      "source": [
        "##Yearly"
      ],
      "metadata": {
        "id": "jGOgso7gjFLW"
      }
    },
    {
      "cell_type": "code",
      "source": [
        "import pandas as pd\n",
        "\n",
        "\n",
        "results = {\n",
        "    'Algorithm': ['ARIMA', 'Hot_Winters_Exponential_Smoothning', 'LSTM', 'Random_Forest', 'MARS'],\n",
        "    'MAE': [2.6490950663336634, 2.965273109002797, 6.1721342453973, 1.0436128926026484, '-'],\n",
        "    'RMSE': [6.898530691039216,  7.327276100055498, 8.460571557206388, 2.80583555333745,'-'],\n",
        "\n",
        "\n",
        "\n",
        "}\n",
        "\n",
        "# Creating a DataFrame\n",
        "df = pd.DataFrame(results)\n",
        "\n",
        "# Display the table\n",
        "print(df)"
      ],
      "metadata": {
        "colab": {
          "base_uri": "https://localhost:8080/"
        },
        "id": "xnkxtAv_i_C-",
        "outputId": "51e571df-a68d-4db9-8298-c20a790e7ad4"
      },
      "execution_count": 3,
      "outputs": [
        {
          "output_type": "stream",
          "name": "stdout",
          "text": [
            "                            Algorithm       MAE      RMSE\n",
            "0                               ARIMA  2.649095  6.898531\n",
            "1  Hot_Winters_Exponential_Smoothning  2.965273  7.327276\n",
            "2                                LSTM  6.172134  8.460572\n",
            "3                       Random_Forest  1.043613  2.805836\n",
            "4                                MARS         -         -\n"
          ]
        }
      ]
    }
  ]
}