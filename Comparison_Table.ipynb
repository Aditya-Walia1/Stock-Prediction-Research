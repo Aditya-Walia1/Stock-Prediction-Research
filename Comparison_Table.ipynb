{
  "nbformat": 4,
  "nbformat_minor": 0,
  "metadata": {
    "colab": {
      "provenance": [],
      "authorship_tag": "ABX9TyMhrkipyaiy1XWOBCCQDR0C",
      "include_colab_link": true
    },
    "kernelspec": {
      "name": "python3",
      "display_name": "Python 3"
    },
    "language_info": {
      "name": "python"
    }
  },
  "cells": [
    {
      "cell_type": "markdown",
      "metadata": {
        "id": "view-in-github",
        "colab_type": "text"
      },
      "source": [
        "<a href=\"https://colab.research.google.com/github/Aditya-Walia1/Stock-Prediction-Research/blob/main/Comparison_Table.ipynb\" target=\"_parent\"><img src=\"https://colab.research.google.com/assets/colab-badge.svg\" alt=\"Open In Colab\"/></a>"
      ]
    },
    {
      "cell_type": "markdown",
      "source": [
        "##Quaterly AAPL"
      ],
      "metadata": {
        "id": "HvowStO6jAMM"
      }
    },
    {
      "cell_type": "code",
      "execution_count": 3,
      "metadata": {
        "colab": {
          "base_uri": "https://localhost:8080/"
        },
        "id": "BAk5Z0meiyC4",
        "outputId": "13bff269-f60c-4ac0-a4bb-3e3c0aa277f7"
      },
      "outputs": [
        {
          "output_type": "stream",
          "name": "stdout",
          "text": [
            "                            Algorithm       MAE      RMSE\n",
            "0                               ARIMA  1.125532  3.364324\n",
            "1  Hot_Winters_Exponential_Smoothning  1.379257  3.339612\n",
            "2                                LSTM  1.641772  3.822389\n",
            "3                       Random_Forest  0.370925  1.075492\n",
            "4                                MARS         -         -\n"
          ]
        }
      ],
      "source": [
        "import pandas as pd\n",
        "\n",
        "\n",
        "results = {\n",
        "    'Algorithm': ['ARIMA', 'Hot_Winters_Exponential_Smoothning', 'LSTM', 'Random_Forest', 'MARS'],\n",
        "    'MAE': [1.1255315377911217, 1.3792567725850433, 1.6417717070440008, 0.3709252858019335, '-'],\n",
        "    'RMSE': [3.364324005914854, 3.339612077704591, 3.8223891239838843, 1.0754917761060612,'-'],\n",
        "\n",
        "\n",
        "\n",
        "}\n",
        "\n",
        "# Creating a DataFrame\n",
        "df = pd.DataFrame(results)\n",
        "\n",
        "# Display the table\n",
        "print(df)"
      ]
    },
    {
      "cell_type": "markdown",
      "source": [
        "##Yearly AAPL"
      ],
      "metadata": {
        "id": "jGOgso7gjFLW"
      }
    },
    {
      "cell_type": "code",
      "source": [
        "import pandas as pd\n",
        "\n",
        "\n",
        "results = {\n",
        "    'Algorithm': ['ARIMA', 'Hot_Winters_Exponential_Smoothning', 'LSTM', 'Random_Forest', 'MARS'],\n",
        "    'MAE': [2.6490950663336634, 2.965273109002797, 6.1721342453973, 1.0436128926026484, '-'],\n",
        "    'RMSE': [6.898530691039216,  7.327276100055498, 8.460571557206388, 2.80583555333745,'-'],\n",
        "\n",
        "\n",
        "\n",
        "}\n",
        "\n",
        "# Creating a DataFrame\n",
        "df = pd.DataFrame(results)\n",
        "\n",
        "# Display the table\n",
        "print(df)"
      ],
      "metadata": {
        "colab": {
          "base_uri": "https://localhost:8080/"
        },
        "id": "xnkxtAv_i_C-",
        "outputId": "6a1269d3-345f-4c91-eae1-d50c9e1eb5a2"
      },
      "execution_count": 4,
      "outputs": [
        {
          "output_type": "stream",
          "name": "stdout",
          "text": [
            "                            Algorithm       MAE      RMSE\n",
            "0                               ARIMA  2.649095  6.898531\n",
            "1  Hot_Winters_Exponential_Smoothning  2.965273  7.327276\n",
            "2                                LSTM  6.172134  8.460572\n",
            "3                       Random_Forest  1.043613  2.805836\n",
            "4                                MARS         -         -\n"
          ]
        }
      ]
    },
    {
      "cell_type": "markdown",
      "source": [
        "##Quaterly AMZN"
      ],
      "metadata": {
        "id": "QkElS5G5pvyC"
      }
    },
    {
      "cell_type": "code",
      "source": [
        "results = {\n",
        "    'Algorithm': ['ARIMA', 'Hot_Winters_Exponential_Smoothning', 'LSTM', 'Random_Forest', 'MARS'],\n",
        "    'MAE': [3.200409051366878, 3.7862346808048017, 3.234312416843628, 0.8452499502975281, '-'],\n",
        "    'RMSE': [6.485896996294824,  6.654702082406257, 6.318401249272036, 1.821558778200319,'-'],\n",
        "\n",
        "\n",
        "\n",
        "}\n",
        "df = pd.DataFrame(results)\n",
        "\n",
        "# Display the table\n",
        "print(df)"
      ],
      "metadata": {
        "colab": {
          "base_uri": "https://localhost:8080/"
        },
        "id": "31L0n_p_pvCg",
        "outputId": "4076fc62-6ab8-4eb2-884c-74293d590249"
      },
      "execution_count": 5,
      "outputs": [
        {
          "output_type": "stream",
          "name": "stdout",
          "text": [
            "                            Algorithm       MAE      RMSE\n",
            "0                               ARIMA  3.200409  6.485897\n",
            "1  Hot_Winters_Exponential_Smoothning  3.786235  6.654702\n",
            "2                                LSTM  3.234312  6.318401\n",
            "3                       Random_Forest   0.84525  1.821559\n",
            "4                                MARS         -         -\n"
          ]
        }
      ]
    },
    {
      "cell_type": "markdown",
      "source": [
        "##Yearly AMZN"
      ],
      "metadata": {
        "id": "yq9QADHnp1EI"
      }
    },
    {
      "cell_type": "code",
      "source": [
        "results = {\n",
        "    'Algorithm': ['ARIMA', 'Hot_Winters_Exponential_Smoothning', 'LSTM', 'Random_Forest', 'MARS'],\n",
        "    'MAE': [6.9996299290600925, 9.236242105923079, 7.8224281864628145, 2.4898724194850153, '-'],\n",
        "    'RMSE': [13.787503501008551,  15.944587012106954, 14.966922889211027, 4.869353664609078,'-'],\n",
        "\n",
        "\n",
        "\n",
        "}\n",
        "df = pd.DataFrame(results)\n",
        "\n",
        "# Display the table\n",
        "print(df)"
      ],
      "metadata": {
        "colab": {
          "base_uri": "https://localhost:8080/"
        },
        "id": "laexEg4Lp8Yn",
        "outputId": "2a877a11-81e3-4dd5-f494-51460dfdb4ae"
      },
      "execution_count": 6,
      "outputs": [
        {
          "output_type": "stream",
          "name": "stdout",
          "text": [
            "                            Algorithm       MAE       RMSE\n",
            "0                               ARIMA   6.99963  13.787504\n",
            "1  Hot_Winters_Exponential_Smoothning  9.236242  15.944587\n",
            "2                                LSTM  7.822428  14.966923\n",
            "3                       Random_Forest  2.489872   4.869354\n",
            "4                                MARS         -          -\n"
          ]
        }
      ]
    },
    {
      "cell_type": "markdown",
      "source": [
        "##Quaterly TSLA"
      ],
      "metadata": {
        "id": "C9dnONOiBmQh"
      }
    },
    {
      "cell_type": "code",
      "source": [
        "results = {\n",
        "    'Algorithm': ['ARIMA', 'Hot_Winters_Exponential_Smoothning', 'LSTM', 'Random_Forest', 'MARS'],\n",
        "    'MAE': [28.839353273452307, 35.04595538938201, 50.199756342028834, 7.234081730205131, '-'],\n",
        "    'RMSE': [67.06185180564927,  62.89993723067406, 76.4978607275731, 20.140812595322014,'-'],\n",
        "\n",
        "\n",
        "\n",
        "}\n",
        "df = pd.DataFrame(results)\n",
        "\n",
        "# Display the table\n",
        "print(df)"
      ],
      "metadata": {
        "colab": {
          "base_uri": "https://localhost:8080/"
        },
        "id": "oh2_BrdjBpSt",
        "outputId": "33b768a8-773b-4b27-a59f-01b4af6e6143"
      },
      "execution_count": 7,
      "outputs": [
        {
          "output_type": "stream",
          "name": "stdout",
          "text": [
            "                            Algorithm        MAE       RMSE\n",
            "0                               ARIMA  28.839353  67.061852\n",
            "1  Hot_Winters_Exponential_Smoothning  35.045955  62.899937\n",
            "2                                LSTM  50.199756  76.497861\n",
            "3                       Random_Forest   7.234082  20.140813\n",
            "4                                MARS          -          -\n"
          ]
        }
      ]
    },
    {
      "cell_type": "markdown",
      "source": [
        "##Yearly TSLA"
      ],
      "metadata": {
        "id": "C6bslYaeBqTa"
      }
    },
    {
      "cell_type": "code",
      "source": [
        "results = {\n",
        "    'Algorithm': ['ARIMA', 'Hot_Winters_Exponential_Smoothning', 'LSTM', 'Random_Forest', 'MARS'],\n",
        "    'MAE': [59.85688636081158, 68.44735891291914, 113.19075420891485, 21.83366366835685, '-'],\n",
        "    'RMSE': [107.42728993386943, 131.01823131393388,163.48635767947445, 42.12001540113143,'-'],\n",
        "\n",
        "\n",
        "\n",
        "}\n",
        "df = pd.DataFrame(results)\n",
        "\n",
        "# Display the table\n",
        "print(df)"
      ],
      "metadata": {
        "colab": {
          "base_uri": "https://localhost:8080/"
        },
        "id": "M5fFbjsCCwFD",
        "outputId": "98d2d9d9-00c5-4972-8825-59c00c32affb"
      },
      "execution_count": 8,
      "outputs": [
        {
          "output_type": "stream",
          "name": "stdout",
          "text": [
            "                            Algorithm         MAE        RMSE\n",
            "0                               ARIMA   59.856886   107.42729\n",
            "1  Hot_Winters_Exponential_Smoothning   68.447359  131.018231\n",
            "2                                LSTM  113.190754  163.486358\n",
            "3                       Random_Forest   21.833664   42.120015\n",
            "4                                MARS           -           -\n"
          ]
        }
      ]
    },
    {
      "cell_type": "markdown",
      "source": [
        "##Quaterly SPX"
      ],
      "metadata": {
        "id": "5PY4SqtPDKfb"
      }
    },
    {
      "cell_type": "code",
      "source": [
        "results = {\n",
        "    'Algorithm': ['ARIMA', 'Hot_Winters_Exponential_Smoothning', 'LSTM', 'Random_Forest', 'MARS'],\n",
        "    'MAE': [19.51457987188311, 19.9028999757723, 56.74789821877478, 6.378978023979361, '-'],\n",
        "    'RMSE': [45.605362053658375,  45.59641484318099,106.48704646620952, 14.74701673466131,'-'],\n",
        "\n",
        "\n",
        "\n",
        "}\n",
        "df = pd.DataFrame(results)\n",
        "\n",
        "# Display the table\n",
        "print(df)"
      ],
      "metadata": {
        "colab": {
          "base_uri": "https://localhost:8080/"
        },
        "id": "GN7sqYlGDOw9",
        "outputId": "52a7fe71-f3d3-4fbd-e64a-bd5cd2a02c32"
      },
      "execution_count": 9,
      "outputs": [
        {
          "output_type": "stream",
          "name": "stdout",
          "text": [
            "                            Algorithm        MAE        RMSE\n",
            "0                               ARIMA   19.51458   45.605362\n",
            "1  Hot_Winters_Exponential_Smoothning    19.9029   45.596415\n",
            "2                                LSTM  56.747898  106.487046\n",
            "3                       Random_Forest   6.378978   14.747017\n",
            "4                                MARS          -           -\n"
          ]
        }
      ]
    },
    {
      "cell_type": "markdown",
      "source": [
        "##Yearly SPX"
      ],
      "metadata": {
        "id": "-ONnvs1TDPaF"
      }
    },
    {
      "cell_type": "code",
      "source": [
        "results = {\n",
        "    'Algorithm': ['ARIMA', 'Hot_Winters_Exponential_Smoothning', 'LSTM', 'Random_Forest', 'MARS'],\n",
        "    'MAE': [41.89481325209618, 45.488971505240386, 93.96591147375521, 13.546554472249824, '-'],\n",
        "    'RMSE': [78.55643045713863,  90.98966610096994,144.689799306568, 26.526166788804762,'-'],\n",
        "\n",
        "\n",
        "\n",
        "}\n",
        "df = pd.DataFrame(results)\n",
        "\n",
        "# Display the table\n",
        "print(df)"
      ],
      "metadata": {
        "colab": {
          "base_uri": "https://localhost:8080/"
        },
        "id": "h_H4C0tTDSWb",
        "outputId": "76a3347f-877b-4128-98c0-a10994e2df08"
      },
      "execution_count": 10,
      "outputs": [
        {
          "output_type": "stream",
          "name": "stdout",
          "text": [
            "                            Algorithm        MAE        RMSE\n",
            "0                               ARIMA  41.894813    78.55643\n",
            "1  Hot_Winters_Exponential_Smoothning  45.488972   90.989666\n",
            "2                                LSTM  93.965911  144.689799\n",
            "3                       Random_Forest  13.546554   26.526167\n",
            "4                                MARS          -           -\n"
          ]
        }
      ]
    }
  ]
}